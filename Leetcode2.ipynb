{
 "cells": [
  {
   "cell_type": "markdown",
   "metadata": {},
   "source": [
    "Reverse a linked list\n",
    "\n",
    "Input: 1->2->3->null\n",
    "Output: 3->2->1->null\n",
    "\n",
    "Input: 1->2->3->4->null\n",
    "Output: 4->3->2->1->null"
   ]
  },
  {
   "cell_type": "code",
   "execution_count": null,
   "metadata": {},
   "outputs": [],
   "source": [
    "class Solution:\n",
    "    \"\"\"\n",
    "    @param head: n\n",
    "    @return: The new head of reversed linked list.\n",
    "    \"\"\"\n",
    "    def reverse(self, head):\n",
    "        # write your code here\n",
    "        curt=None\n",
    "        \n",
    "        \n",
    "        while head!=None:\n",
    "            temp=head.next\n",
    "            head.next=curt\n",
    "            curt=head\n",
    "            head=temp\n",
    "        return curt"
   ]
  },
  {
   "cell_type": "markdown",
   "metadata": {},
   "source": [
    "Valid Parentheses\n",
    "\n",
    "Given a string containing just the characters '(', ')', '{', '}', '[' and ']', determine if the input string is valid.\n",
    "\n",
    "The brackets must close in the correct order, \"()\" and \"()[]{}\" are all valid but \"(]\" and \"([)]\" are not.\n",
    "\n",
    "Input: \"([)]\"\n",
    "Output: False\n",
    "\n",
    "Input: \"()[]{}\"\n",
    "Output: True"
   ]
  },
  {
   "cell_type": "code",
   "execution_count": null,
   "metadata": {},
   "outputs": [],
   "source": [
    "class Solution:\n",
    "    \"\"\"\n",
    "    @param s: A string\n",
    "    @return: whether the string is a valid parentheses\n",
    "    \"\"\"\n",
    "    def isValidParentheses(self, s):\n",
    "        # write your code here\n",
    "        valid=[]\n",
    "        for i in range(len(s)):\n",
    "            valid.append(s[i])\n",
    "            \n",
    "        j=0\n",
    "        while j<len(s)-1:\n",
    "            k=valid.pop()\n",
    "            if k in [\"(\",\"[\",\"{\"]:\n",
    "                return False\n",
    "            elif k==\")\" and valid[-1] in [\"[\",\"{\"]:\n",
    "                return False\n",
    "            elif k==\"]\" and valid[-1] in [\"(\",\"{\"]:\n",
    "                return False\n",
    "            elif k==\"}\" and valid[-1] in [\"(\",\"[\"]:\n",
    "                return False\n",
    "            j=j+1\n",
    "            \n",
    "        return True"
   ]
  }
 ],
 "metadata": {
  "kernelspec": {
   "display_name": "Python 3",
   "language": "python",
   "name": "python3"
  },
  "language_info": {
   "codemirror_mode": {
    "name": "ipython",
    "version": 3
   },
   "file_extension": ".py",
   "mimetype": "text/x-python",
   "name": "python",
   "nbconvert_exporter": "python",
   "pygments_lexer": "ipython3",
   "version": "3.8.0"
  }
 },
 "nbformat": 4,
 "nbformat_minor": 4
}
